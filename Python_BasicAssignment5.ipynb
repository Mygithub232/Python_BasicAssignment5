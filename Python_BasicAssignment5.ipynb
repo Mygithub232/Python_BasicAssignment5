{
 "cells": [
  {
   "cell_type": "code",
   "execution_count": null,
   "metadata": {},
   "outputs": [],
   "source": [
    "1. What does an empty dictionary's code look like?\n",
    "\n",
    "--> dictionary = {}\n",
    "\n",
    "\n",
    "2. What is the value of a dictionary value with the key 'foo' and the value 42?\n",
    "\n",
    "--> dicttionary = {'foo': 42}\n",
    "\n",
    "3. What is the most significant distinction between a dictionary and a list?\n",
    "\n",
    "--> Elements in a list have the following characteristics:\n",
    "\n",
    "    They maintain their ordering unless explicitly re-ordered (for example, by sorting the list).\n",
    "    They can be of any type, and types can be mixed.\n",
    "    They are accessed via numeric (zero based) indices.\n",
    "\n",
    "--> Elements in a Dictionary have the following characteristics:\n",
    "\n",
    "    Every entry has a key and a value\n",
    "    Ordering is not guaranteed\n",
    "    Elements are accessed using key values\n",
    "    Key values can be of any hashtable type (i.e. not a dict) and types can be mixed\n",
    "    Values can be of any type (including other dict’s), and types can be mixed\n",
    "\n",
    "\n",
    "4. What happens if you try to access spam['foo'] if spam is {'bar': 100}?\n",
    "\n",
    "--> we will get key error : KeyError: 'foo' Means there is no key with names 'foo' in spam\n",
    "\n",
    "\n",
    "5. If a dictionary is stored in spam, what is the difference between the expressions 'cat' in spam and 'cat' in spam.keys()?\n",
    "\n",
    "--> 'cat' in spam means it can be key feild or it can be value , But if 'cat' in spam.keys() it is definately one of key field for spam dictionary\n",
    "\n",
    "6. If a dictionary is stored in spam, what is the difference between the expressions 'cat' in spam and 'cat' in spam.values()?\n",
    "\n",
    "--> 'cat' in spam means it can be key feild or it can be value field , But if 'cat' in spam.keys() it is definately one of value field for spam dictionary\n",
    "\n",
    "7. What is a shortcut for the following code?\n",
    "\n",
    "if 'color' not in spam:\n",
    "spam['color'] = 'black'\n",
    "\n",
    "8. How do you \"pretty print\" dictionary values using which module and function?\n",
    "\n",
    "--> Use pprint() to Pretty Print a Dictionary in Python\n",
    "    This module also supports pretty-printing dictionary. \n",
    "    Within the pprint module there is a function with the same name pprint() , which is the function used to pretty-print the given string or object.\n"
   ]
  }
 ],
 "metadata": {
  "kernelspec": {
   "display_name": "Python 3",
   "language": "python",
   "name": "python3"
  },
  "language_info": {
   "codemirror_mode": {
    "name": "ipython",
    "version": 3
   },
   "file_extension": ".py",
   "mimetype": "text/x-python",
   "name": "python",
   "nbconvert_exporter": "python",
   "pygments_lexer": "ipython3",
   "version": "3.8.5"
  }
 },
 "nbformat": 4,
 "nbformat_minor": 4
}
